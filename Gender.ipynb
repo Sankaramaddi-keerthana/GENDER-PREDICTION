{
 "cells": [
  {
   "cell_type": "markdown",
   "metadata": {},
   "source": [
    "# Step1:Import Keras Libraies"
   ]
  },
  {
   "cell_type": "code",
   "execution_count": 1,
   "metadata": {},
   "outputs": [
    {
     "name": "stderr",
     "output_type": "stream",
     "text": [
      "Using TensorFlow backend.\n"
     ]
    }
   ],
   "source": [
    "\n",
    "#import keras libraries\n",
    "from keras.models import Sequential\n",
    "from keras.layers import Dense\n",
    "from keras.layers import Conv2D\n",
    "from keras.layers import MaxPooling2D\n",
    "from keras.layers import Flatten"
   ]
  },
  {
   "cell_type": "markdown",
   "metadata": {},
   "source": [
    "# Step2: Intialize CNN model"
   ]
  },
  {
   "cell_type": "code",
   "execution_count": 2,
   "metadata": {},
   "outputs": [],
   "source": [
    "model=Sequential()"
   ]
  },
  {
   "cell_type": "markdown",
   "metadata": {},
   "source": [
    "# Step3: Add Convolution Layer"
   ]
  },
  {
   "cell_type": "code",
   "execution_count": 3,
   "metadata": {},
   "outputs": [
    {
     "name": "stdout",
     "output_type": "stream",
     "text": [
      "WARNING:tensorflow:From C:\\Users\\sumanth\\AppData\\Local\\Continuum\\anaconda3\\lib\\site-packages\\tensorflow\\python\\framework\\op_def_library.py:263: colocate_with (from tensorflow.python.framework.ops) is deprecated and will be removed in a future version.\n",
      "Instructions for updating:\n",
      "Colocations handled automatically by placer.\n"
     ]
    },
    {
     "name": "stderr",
     "output_type": "stream",
     "text": [
      "C:\\Users\\sumanth\\AppData\\Local\\Continuum\\anaconda3\\lib\\site-packages\\ipykernel_launcher.py:1: UserWarning: Update your `Conv2D` call to the Keras 2 API: `Conv2D(32, (3, 3), input_shape=(128, 128,..., activation=\"relu\")`\n",
      "  \"\"\"Entry point for launching an IPython kernel.\n"
     ]
    }
   ],
   "source": [
    "model.add(Conv2D(32,3,3,input_shape=(128,128,3),activation='relu'))#1St parameter =no of features detectors 2nd& 3rd =Size of feature detector, \n",
    "#4th input image size,5 th parameter is channel for color=3 gray scale=1,6 th to avoid negative pixels we use activation function"
   ]
  },
  {
   "cell_type": "markdown",
   "metadata": {},
   "source": [
    "# Step4:Add Pooling Layer"
   ]
  },
  {
   "cell_type": "code",
   "execution_count": 4,
   "metadata": {},
   "outputs": [],
   "source": [
    "model.add(MaxPooling2D(pool_size=(2,2)))#1parmeter=size of pooling matrix"
   ]
  },
  {
   "cell_type": "markdown",
   "metadata": {},
   "source": [
    "# Step5: Add flatten layer"
   ]
  },
  {
   "cell_type": "code",
   "execution_count": 5,
   "metadata": {},
   "outputs": [],
   "source": [
    "model.add(Flatten())"
   ]
  },
  {
   "cell_type": "markdown",
   "metadata": {},
   "source": [
    "# Step6: Ann starts so need to add dense layers"
   ]
  },
  {
   "cell_type": "code",
   "execution_count": 6,
   "metadata": {},
   "outputs": [
    {
     "name": "stderr",
     "output_type": "stream",
     "text": [
      "C:\\Users\\sumanth\\AppData\\Local\\Continuum\\anaconda3\\lib\\site-packages\\ipykernel_launcher.py:2: UserWarning: Update your `Dense` call to the Keras 2 API: `Dense(activation=\"relu\", units=128, kernel_initializer=\"random_uniform\")`\n",
      "  \n"
     ]
    }
   ],
   "source": [
    "\n",
    "model.add(Dense(output_dim=128,activation='relu',init='random_uniform'))"
   ]
  },
  {
   "cell_type": "code",
   "execution_count": 7,
   "metadata": {},
   "outputs": [
    {
     "name": "stderr",
     "output_type": "stream",
     "text": [
      "C:\\Users\\sumanth\\AppData\\Local\\Continuum\\anaconda3\\lib\\site-packages\\ipykernel_launcher.py:1: UserWarning: Update your `Dense` call to the Keras 2 API: `Dense(activation=\"sigmoid\", units=2, kernel_initializer=\"random_uniform\")`\n",
      "  \"\"\"Entry point for launching an IPython kernel.\n"
     ]
    }
   ],
   "source": [
    "model.add(Dense(output_dim=2,activation='sigmoid',init='random_uniform'))"
   ]
  },
  {
   "cell_type": "markdown",
   "metadata": {},
   "source": [
    "# Step7:Compile the model"
   ]
  },
  {
   "cell_type": "code",
   "execution_count": 8,
   "metadata": {},
   "outputs": [],
   "source": [
    "model.compile(optimizer='adam',loss='binary_crossentropy',metrics=['accuracy'])"
   ]
  },
  {
   "cell_type": "markdown",
   "metadata": {},
   "source": [
    "# Step8: Preprocess images"
   ]
  },
  {
   "cell_type": "code",
   "execution_count": 9,
   "metadata": {},
   "outputs": [],
   "source": [
    "from keras.preprocessing.image import ImageDataGenerator"
   ]
  },
  {
   "cell_type": "code",
   "execution_count": 10,
   "metadata": {},
   "outputs": [],
   "source": [
    "train_datagen=ImageDataGenerator(rescale=1./255,shear_range=0.2,zoom_range=0.2,horizontal_flip=True)\n",
    "test_datagen = ImageDataGenerator(rescale=1./255)"
   ]
  },
  {
   "cell_type": "code",
   "execution_count": 11,
   "metadata": {},
   "outputs": [
    {
     "name": "stdout",
     "output_type": "stream",
     "text": [
      "Found 1600 images belonging to 2 classes.\n",
      "Found 340 images belonging to 2 classes.\n"
     ]
    }
   ],
   "source": [
    "x_train = train_datagen.flow_from_directory(r'C:\\Users\\sumanth\\Downloads\\dataset1\\train',target_size=(128,128),batch_size=32,class_mode='categorical')\n",
    "x_test = train_datagen.flow_from_directory(r'C:\\Users\\sumanth\\Downloads\\dataset1\\test',target_size=(128,128),batch_size=32,class_mode='categorical')"
   ]
  },
  {
   "cell_type": "code",
   "execution_count": 12,
   "metadata": {},
   "outputs": [
    {
     "name": "stdout",
     "output_type": "stream",
     "text": [
      "{'man': 0, 'woman': 1}\n"
     ]
    }
   ],
   "source": [
    "print(x_train.class_indices)"
   ]
  },
  {
   "cell_type": "code",
   "execution_count": 13,
   "metadata": {
    "scrolled": true
   },
   "outputs": [
    {
     "name": "stdout",
     "output_type": "stream",
     "text": [
      "WARNING:tensorflow:From C:\\Users\\sumanth\\AppData\\Local\\Continuum\\anaconda3\\lib\\site-packages\\tensorflow\\python\\ops\\math_ops.py:3066: to_int32 (from tensorflow.python.ops.math_ops) is deprecated and will be removed in a future version.\n",
      "Instructions for updating:\n",
      "Use tf.cast instead.\n"
     ]
    },
    {
     "name": "stderr",
     "output_type": "stream",
     "text": [
      "C:\\Users\\sumanth\\AppData\\Local\\Continuum\\anaconda3\\lib\\site-packages\\ipykernel_launcher.py:1: UserWarning: The semantics of the Keras 2 argument `steps_per_epoch` is not the same as the Keras 1 argument `samples_per_epoch`. `steps_per_epoch` is the number of batches to draw from the generator at each epoch. Basically steps_per_epoch = samples_per_epoch/batch_size. Similarly `nb_val_samples`->`validation_steps` and `val_samples`->`steps` arguments have changed. Update your method calls accordingly.\n",
      "  \"\"\"Entry point for launching an IPython kernel.\n",
      "C:\\Users\\sumanth\\AppData\\Local\\Continuum\\anaconda3\\lib\\site-packages\\ipykernel_launcher.py:1: UserWarning: Update your `fit_generator` call to the Keras 2 API: `fit_generator(<keras_pre..., epochs=20, validation_data=<keras_pre..., steps_per_epoch=50, validation_steps=340)`\n",
      "  \"\"\"Entry point for launching an IPython kernel.\n"
     ]
    },
    {
     "name": "stdout",
     "output_type": "stream",
     "text": [
      "Epoch 1/20\n",
      "50/50 [==============================] - 109s 2s/step - loss: 0.7435 - acc: 0.5338 - val_loss: 0.6608 - val_acc: 0.6721\n",
      "Epoch 2/20\n",
      "50/50 [==============================] - 106s 2s/step - loss: 0.5501 - acc: 0.7325 - val_loss: 0.5098 - val_acc: 0.7619\n",
      "Epoch 3/20\n",
      "50/50 [==============================] - 105s 2s/step - loss: 0.4387 - acc: 0.8134 - val_loss: 0.3957 - val_acc: 0.8241\n",
      "Epoch 4/20\n",
      "50/50 [==============================] - 105s 2s/step - loss: 0.3565 - acc: 0.8462 - val_loss: 0.3447 - val_acc: 0.8489\n",
      "Epoch 5/20\n",
      "50/50 [==============================] - 108s 2s/step - loss: 0.3127 - acc: 0.8584 - val_loss: 0.3251 - val_acc: 0.8632\n",
      "Epoch 6/20\n",
      "50/50 [==============================] - 106s 2s/step - loss: 0.2679 - acc: 0.8888 - val_loss: 0.3163 - val_acc: 0.8726\n",
      "Epoch 7/20\n",
      "50/50 [==============================] - 109s 2s/step - loss: 0.2546 - acc: 0.8953 - val_loss: 0.2932 - val_acc: 0.8808\n",
      "Epoch 8/20\n",
      "50/50 [==============================] - 106s 2s/step - loss: 0.2348 - acc: 0.9044 - val_loss: 0.3043 - val_acc: 0.8823\n",
      "Epoch 9/20\n",
      "50/50 [==============================] - 106s 2s/step - loss: 0.2175 - acc: 0.9022 - val_loss: 0.3549 - val_acc: 0.8547\n",
      "Epoch 10/20\n",
      "50/50 [==============================] - 106s 2s/step - loss: 0.2079 - acc: 0.9141 - val_loss: 0.3080 - val_acc: 0.8822\n",
      "Epoch 11/20\n",
      "50/50 [==============================] - 106s 2s/step - loss: 0.1965 - acc: 0.9209 - val_loss: 0.3656 - val_acc: 0.8624\n",
      "Epoch 12/20\n",
      "50/50 [==============================] - 110s 2s/step - loss: 0.1903 - acc: 0.9281 - val_loss: 0.3230 - val_acc: 0.8771\n",
      "Epoch 13/20\n",
      "50/50 [==============================] - 107s 2s/step - loss: 0.1840 - acc: 0.9197 - val_loss: 0.2938 - val_acc: 0.8897\n",
      "Epoch 14/20\n",
      "50/50 [==============================] - 107s 2s/step - loss: 0.1711 - acc: 0.9387 - val_loss: 0.2901 - val_acc: 0.8858\n",
      "Epoch 15/20\n",
      "50/50 [==============================] - 108s 2s/step - loss: 0.1654 - acc: 0.9412 - val_loss: 0.3220 - val_acc: 0.8750\n",
      "Epoch 16/20\n",
      "50/50 [==============================] - 108s 2s/step - loss: 0.1755 - acc: 0.9306 - val_loss: 0.3572 - val_acc: 0.8705\n",
      "Epoch 17/20\n",
      "50/50 [==============================] - 108s 2s/step - loss: 0.1712 - acc: 0.9331 - val_loss: 0.2933 - val_acc: 0.8903\n",
      "Epoch 18/20\n",
      "50/50 [==============================] - 113s 2s/step - loss: 0.1579 - acc: 0.9347 - val_loss: 0.3982 - val_acc: 0.8510\n",
      "Epoch 19/20\n",
      "50/50 [==============================] - 112s 2s/step - loss: 0.1570 - acc: 0.9391 - val_loss: 0.3166 - val_acc: 0.8781\n",
      "Epoch 20/20\n",
      "50/50 [==============================] - 107s 2s/step - loss: 0.1431 - acc: 0.9453 - val_loss: 0.3137 - val_acc: 0.8818\n"
     ]
    },
    {
     "data": {
      "text/plain": [
       "<keras.callbacks.History at 0x2b65fb99e10>"
      ]
     },
     "execution_count": 13,
     "metadata": {},
     "output_type": "execute_result"
    }
   ],
   "source": [
    "model.fit_generator(x_train,samples_per_epoch = 1600,epochs=20,validation_data=x_test,nb_val_samples=340)#(samples_per_epoch= no of traininig or testing images/batch size)\n",
    "                                                                        #                                                       =8000/32=250"
   ]
  },
  {
   "cell_type": "code",
   "execution_count": 14,
   "metadata": {},
   "outputs": [],
   "source": [
    "model.save('mymodel.h5')# this will save the weights,for keras h5 is extension"
   ]
  }
 ],
 "metadata": {
  "kernelspec": {
   "display_name": "Python 3",
   "language": "python",
   "name": "python3"
  },
  "language_info": {
   "codemirror_mode": {
    "name": "ipython",
    "version": 3
   },
   "file_extension": ".py",
   "mimetype": "text/x-python",
   "name": "python",
   "nbconvert_exporter": "python",
   "pygments_lexer": "ipython3",
   "version": "3.7.3"
  }
 },
 "nbformat": 4,
 "nbformat_minor": 2
}
